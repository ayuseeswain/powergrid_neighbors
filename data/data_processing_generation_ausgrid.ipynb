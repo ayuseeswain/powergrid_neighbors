{
 "cells": [
  {
   "cell_type": "markdown",
   "metadata": {},
   "source": [
    "This file reads the generation data from the AUSGRID dataset and stores it in usable way for the Grid processing."
   ]
  },
  {
   "cell_type": "code",
   "execution_count": 1,
   "metadata": {},
   "outputs": [],
   "source": [
    "# Load libraries\n",
    "import pandas as pd\n",
    "import numpy as np\n",
    "import matplotlib.pyplot as plt\n",
    "%matplotlib inline"
   ]
  },
  {
   "cell_type": "code",
   "execution_count": 2,
   "metadata": {},
   "outputs": [],
   "source": [
    "# Set file names\n",
    "org_file = 'org_data/Solar-home-half-hour-data-1-July-2012-to-30-June-2013-AUSGRID/2012-2013-Solar-home-electricity-data-v2.csv'\n",
    "export_file = 'generation_ausgrid.csv'\n",
    "\n",
    "# Load the data from the original file\n",
    "df = pd.read_csv(org_file,skiprows=1)\n",
    "\n",
    "# Drop the row quality column since it contains only nans\n",
    "df = df.drop(columns=['Row Quality'])"
   ]
  },
  {
   "cell_type": "code",
   "execution_count": 3,
   "metadata": {},
   "outputs": [],
   "source": [
    "# Get index from first data point\n",
    "df_temp = df.where(df['Customer'] == df['Customer'][0]).dropna()\n",
    "\n",
    "def swap_date(date_string, time_string=''):\n",
    "    \"\"\"Function to give date in correct way for pd.date_range\"\"\"\n",
    "    arr = date_string.split('/')\n",
    "    tmp = arr[0]\n",
    "    arr[0] = arr[2]\n",
    "    arr[2] = tmp\n",
    "    ret_string = '-'.join(arr)\n",
    "    if time_string != '':\n",
    "        ret_string = ret_string + ' ' + time_string\n",
    "    return ret_string\n",
    "\n",
    "# Set start and end date\n",
    "start_date = swap_date(df_temp['date'].iloc[0])\n",
    "end_date = swap_date(df_temp['date'].iloc[-1])\n",
    "# Create DateIndex\n",
    "idx = pd.date_range(start=start_date,end=end_date,freq='30T')\n",
    "\n",
    "# Create empty pandas DataFrame\n",
    "df_store = pd.DataFrame(index=idx)"
   ]
  },
  {
   "cell_type": "code",
   "execution_count": 4,
   "metadata": {},
   "outputs": [],
   "source": [
    "# List of customers unique\n",
    "customers = np.unique(df['Customer'].values)\n",
    "\n",
    "# List of all time keys\n",
    "time_keys = ['0:30', '1:00', '1:30', '2:00', '2:30', '3:00', '3:30', '4:00',\n",
    "       '4:30', '5:00', '5:30', '6:00', '6:30', '7:00', '7:30', '8:00', '8:30',\n",
    "       '9:00', '9:30', '10:00', '10:30', '11:00', '11:30', '12:00', '12:30',\n",
    "       '13:00', '13:30', '14:00', '14:30', '15:00', '15:30', '16:00', '16:30',\n",
    "       '17:00', '17:30', '18:00', '18:30', '19:00', '19:30', '20:00', '20:30',\n",
    "       '21:00', '21:30', '22:00', '22:30', '23:00', '23:30', '0:00']\n",
    "\n",
    "# Loop through all customers\n",
    "for num in customers:\n",
    "    # Create empty column in store DataFrame\n",
    "    df_store[str(num)] = np.zeros(df_store.shape[0])\n",
    "for row in range(df.shape[0]):\n",
    "    num = df['Customer'].iloc[row]\n",
    "    # Check if row corresponds to generation and not consumption\n",
    "    if df['Consumption Category'].iloc[row] != 'GG':\n",
    "        continue\n",
    "    # For each time point at that day\n",
    "    for time_key in time_keys:\n",
    "        # Create datetime obejct\n",
    "        time = pd.Timestamp(swap_date(df['date'].iloc[row],time_key))\n",
    "        try: # Finding the point in the storage \n",
    "            idx = df_store.index.get_loc(time)\n",
    "        except: # If not found it might be day 30-06\n",
    "            if time.day != 30:\n",
    "                print('Could not find index for time: ' + str(time))\n",
    "        df_store[str(num)].iloc[idx] += df[time_key].iloc[row]\n",
    "df_store.to_csv(export_file)"
   ]
  },
  {
   "cell_type": "code",
   "execution_count": 19,
   "metadata": {},
   "outputs": [],
   "source": [
    "# Test import\n",
    "df = pd.read_csv(export_file)\n",
    "df['Unnamed: 0'] = pd.to_datetime(df['Unnamed: 0'])\n",
    "df = df.set_index('Unnamed: 0')"
   ]
  },
  {
   "cell_type": "code",
   "execution_count": 45,
   "metadata": {},
   "outputs": [
    {
     "data": {
      "text/plain": [
       "[<matplotlib.lines.Line2D at 0x7ff8e40582e8>]"
      ]
     },
     "execution_count": 45,
     "metadata": {},
     "output_type": "execute_result"
    },
    {
     "data": {
      "image/png": "[encoded data removed]",
      "text/plain": [
       "<Figure size 432x288 with 1 Axes>"
      ]
     },
     "metadata": {
      "needs_background": "light"
     },
     "output_type": "display_data"
    }
   ],
   "source": [
    "# Plot average production for first day\n",
    "avg_prod = df.iloc[0:48,:].mean(axis=1)\n",
    "time = pd.Series(avg_prod.index)\n",
    "for i in range(time.shape[0]): time[i] = time[i].time()\n",
    "plt.plot(time,avg_prod)"
   ]
  },
  {
   "cell_type": "code",
   "execution_count": 43,
   "metadata": {},
   "outputs": [
    {
     "ename": "AttributeError",
     "evalue": "'datetime.time' object has no attribute 'time'",
     "output_type": "error",
     "traceback": [
      "\u001b[0;31m---------------------------------------------------------------------------\u001b[0m",
      "\u001b[0;31mAttributeError\u001b[0m                            Traceback (most recent call last)",
      "\u001b[0;32m<ipython-input-43-df28dc39f0a8>\u001b[0m in \u001b[0;36m<module>\u001b[0;34m()\u001b[0m\n\u001b[0;32m----> 1\u001b[0;31m \u001b[0;32mfor\u001b[0m \u001b[0mi\u001b[0m \u001b[0;32min\u001b[0m \u001b[0mrange\u001b[0m\u001b[0;34m(\u001b[0m\u001b[0mtime\u001b[0m\u001b[0;34m.\u001b[0m\u001b[0mshape\u001b[0m\u001b[0;34m[\u001b[0m\u001b[0;36m0\u001b[0m\u001b[0;34m]\u001b[0m\u001b[0;34m)\u001b[0m\u001b[0;34m:\u001b[0m \u001b[0mtime\u001b[0m\u001b[0;34m[\u001b[0m\u001b[0mi\u001b[0m\u001b[0;34m]\u001b[0m \u001b[0;34m=\u001b[0m \u001b[0mtime\u001b[0m\u001b[0;34m[\u001b[0m\u001b[0mi\u001b[0m\u001b[0;34m]\u001b[0m\u001b[0;34m.\u001b[0m\u001b[0mtime\u001b[0m\u001b[0;34m(\u001b[0m\u001b[0;34m)\u001b[0m\u001b[0;34m\u001b[0m\u001b[0;34m\u001b[0m\u001b[0m\n\u001b[0m",
      "\u001b[0;31mAttributeError\u001b[0m: 'datetime.time' object has no attribute 'time'"
     ]
    }
   ],
   "source": []
  },
  {
   "cell_type": "code",
   "execution_count": null,
   "metadata": {},
   "outputs": [],
   "source": []
  }
 ],
 "metadata": {
  "kernelspec": {
   "display_name": "Python 3",
   "language": "python",
   "name": "python3"
  },
  "language_info": {
   "codemirror_mode": {
    "name": "ipython",
    "version": 3
   },
   "file_extension": ".py",
   "mimetype": "text/x-python",
   "name": "python",
   "nbconvert_exporter": "python",
   "pygments_lexer": "ipython3",
   "version": "3.6.7"
  }
 },
 "nbformat": 4,
 "nbformat_minor": 2
}
