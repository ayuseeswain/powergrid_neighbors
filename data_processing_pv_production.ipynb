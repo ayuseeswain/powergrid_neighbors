{
 "cells": [
  {
   "cell_type": "markdown",
   "metadata": {},
   "source": [
    "This file is intended to process the original data and put out easily accesible data. \n",
    "\n",
    "The result should be two csv files:\n",
    "    consumption.csv\n",
    "    pv_production.csv\n",
    "\n",
    "Both files should cover the same timespan.\n",
    "The unit should be kWh/hh (kwH per half hour). Hence we can simply check how much energy is produced/consumed \n",
    "in a half hour timeframe.\n",
    "\n",
    "+++ pv_production.csv +++ \n",
    "\n",
    "Power generation of solar panels on an half hourly rate.\n",
    "To create this file you have to find an appropriate way to mean the values of three ten minute intervals to a 30 minute interval."
   ]
  },
  {
   "cell_type": "code",
   "execution_count": 1,
   "metadata": {},
   "outputs": [],
   "source": [
    "import pandas as pd \n",
    "import matplotlib.pyplot as plt\n",
    "from datetime import datetime\n",
    "%matplotlib inline"
   ]
  },
  {
   "cell_type": "code",
   "execution_count": 2,
   "metadata": {},
   "outputs": [],
   "source": [
    "# Set original and target file\n",
    "org_file = 'org_data/PV-Data/exportTenMinData-CustomerEndpoint.csv'\n",
    "target_file = 'data/pv_production.csv'"
   ]
  },
  {
   "cell_type": "code",
   "execution_count": 3,
   "metadata": {},
   "outputs": [],
   "source": [
    "# Read file and drop all unimportant information\n",
    "df = pd.read_csv(org_file)\n",
    "keep_keys = ['Substation', 'datetime', 'P_GEN'] # I'm not sure if P_GEN or P_IMPORT is the generation we want to keep\n",
    "for key in df.keys():\n",
    "    if key not in keep_keys:\n",
    "        df.drop(columns=[key],inplace=True)"
   ]
  },
  {
   "cell_type": "code",
   "execution_count": 4,
   "metadata": {},
   "outputs": [],
   "source": [
    "# Get unique stations of the set\n",
    "stations = list(set(df['Substation'].values))\n",
    "\n",
    "# Create a dataframe df_store to add values to\n",
    "df_store = df.where(df['Substation'] == stations[0]).dropna()\n",
    "df_store[stations[0]] = df_store['P_GEN']\n",
    "df_store.drop(columns=['Substation','P_GEN'],inplace=True)\n",
    "stations.remove(stations[0])"
   ]
  },
  {
   "cell_type": "code",
   "execution_count": 5,
   "metadata": {},
   "outputs": [],
   "source": [
    "# Add data for each Substation\n",
    "for station in stations:\n",
    "    df_tmp = df.where(df['Substation'] == station).dropna()\n",
    "    if df_tmp.shape[0] != df_store.shape[0]:\n",
    "        # Delete rows from df_store that have time frames that are not in df_tmp\n",
    "        df_store = df_store.loc[df_store['datetime'].isin(df_tmp['datetime'].values)]\n",
    "        # Do it the other way around to delete times that are not in df_store from df_tmp\n",
    "        df_tmp = df_tmp.loc[df_tmp['datetime'].isin(df_store['datetime'].values)]\n",
    "        \n",
    "        # add values to df_store\n",
    "        df_store[station] = df_tmp['P_GEN'].values\n",
    "df_store.reset_index(drop=True)\n",
    "\n",
    "# Set index as datetime objects\n",
    "df_store['datetime'] = pd.to_datetime(df_store['datetime'])\n",
    "df_store = df_store.set_index('datetime')\n",
    "\n",
    "# Resample for 30 min intervals\n",
    "df_store = df_store.resample('30T').mean()\n",
    "\n",
    "# Change units from kW to kWh/hh (kWh per half hour)\n",
    "for key in df_store.keys():\n",
    "    df_store[key] = 0.5*df_store[key]\n",
    "\n",
    "# Store dataframe\n",
    "df_store.to_csv(target_file,index=True)"
   ]
  },
  {
   "cell_type": "code",
   "execution_count": 6,
   "metadata": {},
   "outputs": [
    {
     "data": {
      "text/html": [
       "<div>\n",
       "<style scoped>\n",
       "    .dataframe tbody tr th:only-of-type {\n",
       "        vertical-align: middle;\n",
       "    }\n",
       "\n",
       "    .dataframe tbody tr th {\n",
       "        vertical-align: top;\n",
       "    }\n",
       "\n",
       "    .dataframe thead th {\n",
       "        text-align: right;\n",
       "    }\n",
       "</style>\n",
       "<table border=\"1\" class=\"dataframe\">\n",
       "  <thead>\n",
       "    <tr style=\"text-align: right;\">\n",
       "      <th></th>\n",
       "      <th>Forest Road</th>\n",
       "      <th>Maple Drive East</th>\n",
       "      <th>Alverston Close</th>\n",
       "      <th>YMCA</th>\n",
       "      <th>Suffolk Road</th>\n",
       "      <th>Bancroft Close</th>\n",
       "    </tr>\n",
       "    <tr>\n",
       "      <th>datetime</th>\n",
       "      <th></th>\n",
       "      <th></th>\n",
       "      <th></th>\n",
       "      <th></th>\n",
       "      <th></th>\n",
       "      <th></th>\n",
       "    </tr>\n",
       "  </thead>\n",
       "  <tbody>\n",
       "    <tr>\n",
       "      <th>2014-06-10 02:00:00</th>\n",
       "      <td>0.001</td>\n",
       "      <td>-0.002000</td>\n",
       "      <td>-0.013</td>\n",
       "      <td>-0.0025</td>\n",
       "      <td>0.0015</td>\n",
       "      <td>-0.002500</td>\n",
       "    </tr>\n",
       "    <tr>\n",
       "      <th>2014-06-10 02:30:00</th>\n",
       "      <td>0.001</td>\n",
       "      <td>-0.002000</td>\n",
       "      <td>-0.013</td>\n",
       "      <td>-0.0025</td>\n",
       "      <td>0.0015</td>\n",
       "      <td>-0.002500</td>\n",
       "    </tr>\n",
       "    <tr>\n",
       "      <th>2014-06-10 03:00:00</th>\n",
       "      <td>0.001</td>\n",
       "      <td>-0.002000</td>\n",
       "      <td>-0.013</td>\n",
       "      <td>-0.0025</td>\n",
       "      <td>0.0015</td>\n",
       "      <td>-0.002500</td>\n",
       "    </tr>\n",
       "    <tr>\n",
       "      <th>2014-06-10 03:30:00</th>\n",
       "      <td>0.001</td>\n",
       "      <td>-0.002000</td>\n",
       "      <td>-0.013</td>\n",
       "      <td>-0.0025</td>\n",
       "      <td>0.0015</td>\n",
       "      <td>-0.002500</td>\n",
       "    </tr>\n",
       "    <tr>\n",
       "      <th>2014-06-10 04:00:00</th>\n",
       "      <td>0.001</td>\n",
       "      <td>-0.001333</td>\n",
       "      <td>-0.013</td>\n",
       "      <td>-0.0025</td>\n",
       "      <td>0.0015</td>\n",
       "      <td>0.007333</td>\n",
       "    </tr>\n",
       "  </tbody>\n",
       "</table>\n",
       "</div>"
      ],
      "text/plain": [
       "                     Forest Road  Maple Drive East  Alverston Close    YMCA  \\\n",
       "datetime                                                                      \n",
       "2014-06-10 02:00:00        0.001         -0.002000           -0.013 -0.0025   \n",
       "2014-06-10 02:30:00        0.001         -0.002000           -0.013 -0.0025   \n",
       "2014-06-10 03:00:00        0.001         -0.002000           -0.013 -0.0025   \n",
       "2014-06-10 03:30:00        0.001         -0.002000           -0.013 -0.0025   \n",
       "2014-06-10 04:00:00        0.001         -0.001333           -0.013 -0.0025   \n",
       "\n",
       "                     Suffolk Road  Bancroft Close  \n",
       "datetime                                           \n",
       "2014-06-10 02:00:00        0.0015       -0.002500  \n",
       "2014-06-10 02:30:00        0.0015       -0.002500  \n",
       "2014-06-10 03:00:00        0.0015       -0.002500  \n",
       "2014-06-10 03:30:00        0.0015       -0.002500  \n",
       "2014-06-10 04:00:00        0.0015        0.007333  "
      ]
     },
     "execution_count": 6,
     "metadata": {},
     "output_type": "execute_result"
    }
   ],
   "source": [
    "# Test the import of the target_file\n",
    "df_store = pd.read_csv(target_file)\n",
    "# Convert datetime strings to datetime objects\n",
    "df_store['datetime'] = pd.to_datetime(df_store['datetime'])\n",
    "df_store = df_store.set_index('datetime')\n",
    "df_store.head()"
   ]
  },
  {
   "cell_type": "code",
   "execution_count": 7,
   "metadata": {},
   "outputs": [
    {
     "name": "stdout",
     "output_type": "stream",
     "text": [
      "Start: 2014-06-10 02:00:00\n",
      "End: 2014-10-03 09:30:00\n"
     ]
    }
   ],
   "source": [
    "# Check global time frame\n",
    "print('Start: ' + str(df_store.index[0]))\n",
    "print('End: ' + str(df_store.index[-1]))"
   ]
  },
  {
   "cell_type": "code",
   "execution_count": 17,
   "metadata": {},
   "outputs": [
    {
     "data": {
      "text/plain": [
       "[<matplotlib.lines.Line2D at 0x7fb10e4976d8>]"
      ]
     },
     "execution_count": 17,
     "metadata": {},
     "output_type": "execute_result"
    },
    {
     "data": {
      "image/png": "[encoded data removed]",
      "text/plain": [
       "<Figure size 432x288 with 1 Axes>"
      ]
     },
     "metadata": {
      "needs_background": "light"
     },
     "output_type": "display_data"
    }
   ],
   "source": [
    "plt.xticks([])\n",
    "plt.xlabel('24 hours')\n",
    "plt.ylabel('Average production in kWh/hh')\n",
    "plt.plot(df_store.index[0:48],df_store.mean(axis=1)[0:48])"
   ]
  },
  {
   "cell_type": "code",
   "execution_count": null,
   "metadata": {},
   "outputs": [],
   "source": []
  }
 ],
 "metadata": {
  "kernelspec": {
   "display_name": "Python 3",
   "language": "python",
   "name": "python3"
  },
  "language_info": {
   "codemirror_mode": {
    "name": "ipython",
    "version": 3
   },
   "file_extension": ".py",
   "mimetype": "text/x-python",
   "name": "python",
   "nbconvert_exporter": "python",
   "pygments_lexer": "ipython3",
   "version": "3.7.2"
  }
 },
 "nbformat": 4,
 "nbformat_minor": 2
}
