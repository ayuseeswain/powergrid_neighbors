{
 "cells": [
  {
   "cell_type": "markdown",
   "metadata": {},
   "source": [
    "This notebook optimizes the size of the pv modules for each house, such that it has an optimal size of the pv module. Optimal is in this case that the cost over a specific time period minimizes. Therefore we consider a finite timespan. We simulate a single year and then multiply the import costs from the grid and rewards, that we get from the grid company, by the number of years."
   ]
  },
  {
   "cell_type": "code",
   "execution_count": 1,
   "metadata": {},
   "outputs": [],
   "source": [
    "import pandas as pd\n",
    "import numpy as np\n",
    "import matplotlib.pyplot as plt\n",
    "from src.grid import Grid\n",
    "import random\n",
    "from ipywidgets import IntProgress\n",
    "from IPython.display import display\n",
    "%matplotlib inline"
   ]
  },
  {
   "cell_type": "markdown",
   "metadata": {},
   "source": [
    "### Import datasets\n",
    "We only choose a single house here for the consumption, while we keep all possibilities of pv modules. We also retrieve the sizes of the pv modules from the production DataFrame."
   ]
  },
  {
   "cell_type": "code",
   "execution_count": 2,
   "metadata": {},
   "outputs": [],
   "source": [
    "# Consumption data\n",
    "df_cons = pd.read_csv('data/consumption_ausgrid.csv')\n",
    "df_cons['Unnamed: 0'] = pd.to_datetime(df_cons['Unnamed: 0'])\n",
    "df_cons = df_cons.set_index('Unnamed: 0')\n",
    "df_cons_red = df_cons.iloc[:,0]\n",
    "# Production data\n",
    "df_prod = pd.read_csv('data/normalized_generation_ausgrid_025steps.csv')\n",
    "df_prod['Unnamed: 0'] = pd.to_datetime(df_prod['Unnamed: 0'])\n",
    "df_prod = df_prod.set_index('Unnamed: 0')"
   ]
  },
  {
   "cell_type": "code",
   "execution_count": 3,
   "metadata": {},
   "outputs": [],
   "source": [
    "# Retrieve data from consumption\n",
    "data_consumption = df_cons_red.values\n",
    "\n",
    "# Retrieve data from production and pv_sizes\n",
    "data_production = df_prod.values\n",
    "pv_peakpowers = [float(key) for key in df_prod.keys()]"
   ]
  },
  {
   "cell_type": "markdown",
   "metadata": {},
   "source": [
    "# Single Household\n",
    "### Create a grid model \n",
    "This creates a standard grid model, which does not include any storage device (i.e. one storage with zero capacity). Therefore we get the pure consumption data and the price for this consumption. "
   ]
  },
  {
   "cell_type": "code",
   "execution_count": 4,
   "metadata": {},
   "outputs": [
    {
     "name": "stdout",
     "output_type": "stream",
     "text": [
      "{'import_grid_kwh': 7679.200999999989, 'export_grid_kwh': 0.0, 'pv_production_kwh': 0.0, 'setup_cost_storage': 0, 'setup_cost_pv': 0.0, 'cost_import_grid': 1919.8002499999973, 'reward_export_grid': 0.0}\n"
     ]
    }
   ],
   "source": [
    "g = Grid(num_houses=1,num_storages=1,max_capacity=0,num_pvtypes=len(pv_peakpowers),pv_peakpower=pv_peakpowers)\n",
    "g.set_costs() # Set standard costs\n",
    "res_dict = g.simulate(data_cons=data_consumption,data_prod=data_production)\n",
    "print(res_dict)"
   ]
  },
  {
   "cell_type": "markdown",
   "metadata": {},
   "source": [
    "###  Objective function \n",
    "We now need to define an objective function, that we want to optimize. As outlined before we want to optimize here the cost within a certain time frame (e.g. 7 years). Setting up storages and PV systems are one time expenses, so we just leave them as they result from the model simulation. However the costs and reward from grid interactions are only valid for a single year. Hence we multiply them by the number of years, which we look at, to get an approximation for the total costs.\n",
    "We can also think of completly different objective functions, such as minimizing the interaction with the grid. Or combinations of costs and grid dependency factors."
   ]
  },
  {
   "cell_type": "code",
   "execution_count": 5,
   "metadata": {},
   "outputs": [],
   "source": [
    "def objective_function(res_dict,years=7):\n",
    "    total_cost = res_dict[\"setup_cost_storage\"] + res_dict[\"setup_cost_pv\"]\n",
    "    total_cost += res_dict[\"cost_import_grid\"]*years\n",
    "    total_cost -= res_dict[\"reward_export_grid\"]*years\n",
    "    return total_cost"
   ]
  },
  {
   "cell_type": "markdown",
   "metadata": {},
   "source": [
    "Applying the objective function to the model without a PV installation, gives us simply the normal cost for energy in the house over the defined timespan."
   ]
  },
  {
   "cell_type": "code",
   "execution_count": 6,
   "metadata": {},
   "outputs": [
    {
     "name": "stdout",
     "output_type": "stream",
     "text": [
      "13438.601749999982\n"
     ]
    }
   ],
   "source": [
    "total_cost_noPV = objective_function(res_dict)\n",
    "print(total_cost_noPV)"
   ]
  },
  {
   "cell_type": "markdown",
   "metadata": {},
   "source": [
    "Applying the objective function now to the grid model for all possible PV types gives us a \"cost-landscape\".\n"
   ]
  },
  {
   "cell_type": "code",
   "execution_count": 7,
   "metadata": {},
   "outputs": [
    {
     "data": {
      "image/png": "[encoded data removed]",
      "text/plain": [
       "<Figure size 432x288 with 1 Axes>"
      ]
     },
     "metadata": {
      "needs_background": "light"
     },
     "output_type": "display_data"
    }
   ],
   "source": [
    "total_costs = []\n",
    "# For all possible PV types\n",
    "for i in range(data_production.shape[1]):\n",
    "    # Set pv type of house to this specific one\n",
    "    g.change_pvtype(num_house=0,pv_type=i)\n",
    "    # Simulate the grid for one year\n",
    "    res_dict = g.simulate(data_cons=data_consumption,data_prod=data_production)\n",
    "    # Objective function\n",
    "    total_costs.append(objective_function(res_dict))\n",
    "    \n",
    "# Plot the total costs agains the peakpower of the used module\n",
    "plt.axhline(total_cost_noPV,c='r',label='Costs without PV')\n",
    "plt.xlabel('PV peakpower')\n",
    "plt.ylabel('Costs [€] for 7 years')\n",
    "plt.plot(pv_peakpowers,total_costs,label='Costs with PV')\n",
    "plt.legend()\n",
    "plt.savefig('plots/single_household_7year.png',dpi=200)"
   ]
  },
  {
   "cell_type": "markdown",
   "metadata": {},
   "source": [
    "The downside of this specific objective function is, that it depends on the timespan. If the timespan is too large (e.g. 15 years), the total cost only decreases with the peakpower of the installed pv module. Hence the largest module is the best. \n",
    "Otherwise, if the timespan is too small, the costs only increase with peakpower and no pv module is the cheapest choice.\n",
    "\n",
    "# Multiple households\n",
    "Now we are going to do the same as above just for multiple households that all have different consumption schedules. In order to cut down the dimensions we need to use later on we only take the first 20 PV modules as available. These correspond to sizes from $0.25$ kWp to $5.00$ kWp"
   ]
  },
  {
   "cell_type": "code",
   "execution_count": 8,
   "metadata": {},
   "outputs": [],
   "source": [
    "# Choose number of houses houses\n",
    "num_houses = 5\n",
    "data_consumption = df_cons.iloc[:,:num_houses].values\n",
    "\n",
    "# Retrieve data from production and pv_sizes\n",
    "df_prod = df_prod.iloc[:,0:20]\n",
    "data_production = df_prod.values\n",
    "pv_peakpowers = [float(key) for key in df_prod.keys()]\n",
    "\n",
    "# Create the grid model and simulate one year\n",
    "g = Grid(num_houses=num_houses,num_storages=1,max_capacity=0,num_pvtypes=len(pv_peakpowers),pv_peakpower=pv_peakpowers)\n",
    "# Set standard costs\n",
    "g.set_costs()"
   ]
  },
  {
   "cell_type": "markdown",
   "metadata": {},
   "source": [
    "Now we randomize the attached pv module to each house and simulate for one year."
   ]
  },
  {
   "cell_type": "code",
   "execution_count": 9,
   "metadata": {},
   "outputs": [
    {
     "name": "stdout",
     "output_type": "stream",
     "text": [
      "{'import_grid_kwh': 22405.888250000233, 'export_grid_kwh': 11918.947249999948, 'pv_production_kwh': 15951.254999999815, 'setup_cost_storage': 0, 'setup_cost_pv': 14350.0, 'cost_import_grid': 5601.472062500058, 'reward_export_grid': 1191.8947249999949}\n"
     ]
    }
   ],
   "source": [
    "g.randomize()\n",
    "res_dict = g.simulate(data_cons=data_consumption,data_prod=data_production)\n",
    "print(res_dict)"
   ]
  },
  {
   "cell_type": "markdown",
   "metadata": {},
   "source": [
    "Now this it the point, where we can start implementing a **genetic algorithm** to optimize the size of the pv module attached to each house. Since all houses do not interact (YET!) we could also simply optimize each house on its own and would result in the optimal solution. However the houses will interact through the storage systems later and we can not optimize each house on its own anymore. Thus we already build the genetic algorithm here. \n",
    "\n",
    "First we initialize a starting population of grids and randomize their initial states."
   ]
  },
  {
   "cell_type": "code",
   "execution_count": 10,
   "metadata": {},
   "outputs": [],
   "source": [
    "num_population = 100\n",
    "population = []\n",
    "total_costs = np.array([])\n",
    "for i in range(num_population):\n",
    "    # Create Grid, set costs, randomize and simulate\n",
    "    g = Grid(num_houses=num_houses,num_storages=1,max_capacity=0,num_pvtypes=len(pv_peakpowers),pv_peakpower=pv_peakpowers)\n",
    "    g.set_costs()\n",
    "    g.randomize()\n",
    "    res_dict = g.simulate(data_consumption,data_production)\n",
    "    # Append grid to population and total costs to array\n",
    "    population.append(g)\n",
    "    total_costs = np.append(total_costs,objective_function(res_dict)) "
   ]
  },
  {
   "cell_type": "markdown",
   "metadata": {},
   "source": [
    "Now we need to create crossovers and mutations. We cut down to the original population size and start again. "
   ]
  },
  {
   "cell_type": "code",
   "execution_count": 11,
   "metadata": {},
   "outputs": [
    {
     "data": {
      "application/vnd.jupyter.widget-view+json": {
       "model_id": "0e828e103ce84ebea380a7d0be5982c5",
       "version_major": 2,
       "version_minor": 0
      },
      "text/plain": [
       "IntProgress(value=0, max=20)"
      ]
     },
     "metadata": {},
     "output_type": "display_data"
    }
   ],
   "source": [
    "# Rates of crossover and mutation\n",
    "mutation_rate = 0.5\n",
    "crossover_rate = 0.5\n",
    "\n",
    "# Storage arrays\n",
    "num_generations = 20\n",
    "mean_total_costs = np.zeros(num_generations)\n",
    "std_total_costs = np.zeros(num_generations)\n",
    "min_total_costs = np.zeros(num_generations)\n",
    "\n",
    "# Progress bar\n",
    "f = IntProgress(min=0, max=num_generations-1) # instantiate the bar\n",
    "display(f) # display the bar\n",
    "\n",
    "for i in range(num_generations): \n",
    "    # Mutations\n",
    "    for k in range(int(mutation_rate*num_population)): \n",
    "        idx = random.randint(0,len(population)-1)\n",
    "        g = population[idx].get_copy()\n",
    "        g.mutate(storage_connection=False,pv_type=True)\n",
    "        res_dict = g.simulate(data_consumption,data_production)\n",
    "        population.append(g)\n",
    "        total_costs = np.append(total_costs,objective_function(res_dict))\n",
    "    \n",
    "    # Crossover\n",
    "    for k in range(int(crossover_rate*num_population)):\n",
    "        idx1 = random.randint(0,len(population)-1)\n",
    "        idx2 = random.randint(0,len(population)-1)\n",
    "        g1 = population[idx1].get_copy()\n",
    "        g2 = population[idx2].get_copy()\n",
    "        g2 = g1.crossover(g2,storage_connection=False,pv_type=True)\n",
    "        population.append(g1)\n",
    "        population.append(g2)\n",
    "        res_dict = g1.simulate(data_consumption,data_production)\n",
    "        total_costs = np.append(total_costs,objective_function(res_dict))\n",
    "        res_dict = g2.simulate(data_consumption,data_production)\n",
    "        total_costs = np.append(total_costs,objective_function(res_dict))\n",
    "        \n",
    "    # Size reduction\n",
    "    del_idx = np.argsort(total_costs)[num_population:]\n",
    "    for idx in sorted(del_idx,reverse=True):\n",
    "        population.pop(idx)\n",
    "    total_costs = np.delete(total_costs,del_idx)\n",
    "    \n",
    "    # Calculate mean and min total costs\n",
    "    mean_total_costs[i] = np.mean(total_costs)\n",
    "    std_total_costs[i] = np.std(total_costs)\n",
    "    min_total_costs[i] = np.min(total_costs)\n",
    "    \n",
    "    # Update value of the proress bar\n",
    "    f.value = i\n",
    "\n",
    "# Store the best grid individual\n",
    "best_grid = population[np.argmin(total_costs)]\n",
    "min_cost_genetic = np.min(min_total_costs)"
   ]
  },
  {
   "cell_type": "code",
   "execution_count": 12,
   "metadata": {},
   "outputs": [
    {
     "data": {
      "image/png": "[encoded data removed]",
      "text/plain": [
       "<Figure size 432x288 with 1 Axes>"
      ]
     },
     "metadata": {
      "needs_background": "light"
     },
     "output_type": "display_data"
    }
   ],
   "source": [
    "plt.ylabel('Total Costs')\n",
    "plt.xlabel('Generations')\n",
    "plt.plot(mean_total_costs,label='Mean')\n",
    "plt.plot(min_total_costs,label='Min')\n",
    "plt.title('Neighborhood ' + str(num_houses) + ' houses')\n",
    "plt.legend()\n",
    "plt.savefig('plots/' + str(num_houses) + '_household_onlyPV.png')"
   ]
  },
  {
   "cell_type": "markdown",
   "metadata": {},
   "source": [
    "As we already stated above we can also optimize the cost for each house seperately. To check the results of the genetic algorithm above, we do the seperate optimization, which gives us the true result."
   ]
  },
  {
   "cell_type": "code",
   "execution_count": 14,
   "metadata": {},
   "outputs": [
    {
     "data": {
      "image/png": "[encoded data removed]",
      "text/plain": [
       "<Figure size 432x288 with 5 Axes>"
      ]
     },
     "metadata": {
      "needs_background": "light"
     },
     "output_type": "display_data"
    },
    {
     "name": "stdout",
     "output_type": "stream",
     "text": [
      "Minimum cost: 43534.36377500013\n",
      "Genetic algorithm minimum: 43579.274812500225\n"
     ]
    }
   ],
   "source": [
    "min_sum = 0\n",
    "\n",
    "for l in range(num_houses):\n",
    "    data_consumption = df_cons.iloc[:,l].values\n",
    "    g = Grid(num_houses=1,num_storages=1,max_capacity=0,num_pvtypes=len(pv_peakpowers),pv_peakpower=pv_peakpowers)\n",
    "    g.set_costs()\n",
    "    total_costs = []\n",
    "    # For all possible PV types\n",
    "    for i in range(data_production.shape[1]):\n",
    "        # Set pv type of house to this specific one\n",
    "        g.change_pvtype(num_house=0,pv_type=i)\n",
    "        # Simulate the grid for one year\n",
    "        res_dict = g.simulate(data_cons=data_consumption,data_prod=data_production)\n",
    "        # Objective function\n",
    "        total_costs.append(objective_function(res_dict))\n",
    "    plt.subplot(2,3,l+1)\n",
    "    plt.plot(pv_peakpowers,total_costs)\n",
    "    plt.title('House ' + str(l))\n",
    "    min_sum += np.min(total_costs)\n",
    "plt.tight_layout()\n",
    "plt.show()\n",
    "print('Minimum cost: ' + str(min_sum))\n",
    "print('Genetic algorithm minimum: ' + str(min_cost_genetic))"
   ]
  },
  {
   "cell_type": "markdown",
   "metadata": {},
   "source": [
    "As we can see the minimum cost calculated manually is close to the optimal cost, calculated with the genetic algorithm. But the run of the genetic algorithm takes a huge computational amount.\n",
    "\n",
    "A next step might be adding a grid system with storages. Hence we would have optimized the size of the pv systems first and then checked if a grid system is feasible. We can also think of doing both a the same time which takes even more computational power, but might result in a better/cheaper solution of the energy cost problem."
   ]
  }
 ],
 "metadata": {
  "kernelspec": {
   "display_name": "Python 3",
   "language": "python",
   "name": "python3"
  },
  "language_info": {
   "codemirror_mode": {
    "name": "ipython",
    "version": 3
   },
   "file_extension": ".py",
   "mimetype": "text/x-python",
   "name": "python",
   "nbconvert_exporter": "python",
   "pygments_lexer": "ipython3",
   "version": "3.7.2"
  }
 },
 "nbformat": 4,
 "nbformat_minor": 2
}
