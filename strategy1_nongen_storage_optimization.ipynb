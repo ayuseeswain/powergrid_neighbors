{
 "cells": [
  {
   "cell_type": "markdown",
   "metadata": {},
   "source": [
    "This notebook first optimizes the size of the pv modules for each house, such that it has an optimal size of the pv module. Optimal is in this case that the cost over a specific time period minimizes. WE WILL NOT USE GA FOR THAT HERE!\n",
    "\n",
    "After this optimization we integrate an storage network and optimize their sizes and connections to other houses in order to minimize the cost as well. WITH GA."
   ]
  },
  {
   "cell_type": "code",
   "execution_count": 1,
   "metadata": {},
   "outputs": [],
   "source": [
    "import pandas as pd\n",
    "import numpy as np\n",
    "import matplotlib.pyplot as plt\n",
    "from src.grid import Grid\n",
    "import random\n",
    "from ipywidgets import IntProgress\n",
    "from IPython.display import display\n",
    "%matplotlib inline"
   ]
  },
  {
   "cell_type": "markdown",
   "metadata": {},
   "source": [
    "### Import datasets\n",
    "We only choose a single house here for the consumption, while we keep all possibilities of pv modules. We also retrieve the sizes of the pv modules from the production DataFrame."
   ]
  },
  {
   "cell_type": "code",
   "execution_count": 2,
   "metadata": {},
   "outputs": [],
   "source": [
    "# Consumption data\n",
    "df_cons = pd.read_csv('data/consumption_ausgrid.csv')\n",
    "df_cons['Unnamed: 0'] = pd.to_datetime(df_cons['Unnamed: 0'])\n",
    "df_cons = df_cons.set_index('Unnamed: 0')\n",
    "df_cons_red = df_cons.iloc[:,0]\n",
    "# Production data\n",
    "df_prod = pd.read_csv('data/normalized_generation_ausgrid_025steps.csv')\n",
    "df_prod['Unnamed: 0'] = pd.to_datetime(df_prod['Unnamed: 0'])\n",
    "df_prod = df_prod.set_index('Unnamed: 0')"
   ]
  },
  {
   "cell_type": "code",
   "execution_count": 3,
   "metadata": {},
   "outputs": [],
   "source": [
    "# Retrieve data from consumption\n",
    "data_consumption = df_cons_red.values\n",
    "\n",
    "# Retrieve data from production and pv_sizes\n",
    "data_production = df_prod.values\n",
    "pv_peakpowers = [float(key) for key in df_prod.keys()]"
   ]
  },
  {
   "cell_type": "markdown",
   "metadata": {},
   "source": [
    "# Single Household\n",
    "### Create a grid model \n",
    "This creates a standard grid model, which does not include any storage device (i.e. one storage with zero capacity). Therefore we get the pure consumption data and the price for this consumption. "
   ]
  },
  {
   "cell_type": "code",
   "execution_count": 4,
   "metadata": {},
   "outputs": [
    {
     "name": "stdout",
     "output_type": "stream",
     "text": [
      "{'import_grid_kwh': 7679.200999999989, 'export_grid_kwh': 0.0, 'pv_production_kwh': 0.0, 'setup_cost_storage': 0, 'setup_cost_pv': 0.0, 'cost_import_grid': 1919.8002499999973, 'reward_export_grid': 0.0}\n"
     ]
    }
   ],
   "source": [
    "g = Grid(num_houses=1,num_storages=1,max_capacity=0,num_pvtypes=len(pv_peakpowers),pv_peakpower=pv_peakpowers)\n",
    "g.set_costs() # Set standard costs\n",
    "res_dict = g.simulate(data_cons=data_consumption,data_prod=data_production)\n",
    "print(res_dict)"
   ]
  },
  {
   "cell_type": "markdown",
   "metadata": {},
   "source": [
    "###  Objective function \n",
    "We now need to define an objective function, that we want to optimize. As outlined before we want to optimize here the cost within a certain time frame (e.g. 7 years). Setting up storages and PV systems are one time expenses, so we just leave them as they result from the model simulation. However the costs and reward from grid interactions are only valid for a single year. Hence we multiply them by the number of years, which we look at, to get an approximation for the total costs.\n",
    "We can also think of completly different objective functions, such as minimizing the interaction with the grid. Or combinations of costs and grid dependency factors."
   ]
  },
  {
   "cell_type": "code",
   "execution_count": 5,
   "metadata": {},
   "outputs": [],
   "source": [
    "def objective_function(res_dict,years=7):\n",
    "    total_cost = res_dict[\"setup_cost_storage\"] + res_dict[\"setup_cost_pv\"]\n",
    "    total_cost += res_dict[\"cost_import_grid\"]*years\n",
    "    total_cost -= res_dict[\"reward_export_grid\"]*years\n",
    "    return total_cost"
   ]
  },
  {
   "cell_type": "markdown",
   "metadata": {},
   "source": [
    "Applying the objective function to the model without a PV installation, gives us simply the normal cost for energy in the house over the defined timespan."
   ]
  },
  {
   "cell_type": "code",
   "execution_count": 6,
   "metadata": {},
   "outputs": [
    {
     "name": "stdout",
     "output_type": "stream",
     "text": [
      "13438.601749999982\n"
     ]
    }
   ],
   "source": [
    "total_cost_noPV = objective_function(res_dict)\n",
    "print(total_cost_noPV)"
   ]
  },
  {
   "cell_type": "markdown",
   "metadata": {},
   "source": [
    "Applying the objective function now to the grid model for all possible PV types gives us a \"cost-landscape\".\n"
   ]
  },
  {
   "cell_type": "code",
   "execution_count": 7,
   "metadata": {},
   "outputs": [
    {
     "data": {
      "image/png": "[encoded data removed]",
      "text/plain": [
       "<Figure size 432x288 with 1 Axes>"
      ]
     },
     "metadata": {
      "needs_background": "light"
     },
     "output_type": "display_data"
    }
   ],
   "source": [
    "total_costs = []\n",
    "# For all possible PV types\n",
    "for i in range(data_production.shape[1]):\n",
    "    # Set pv type of house to this specific one\n",
    "    g.change_pvtype(num_house=0,pv_type=i)\n",
    "    # Simulate the grid for one year\n",
    "    res_dict = g.simulate(data_cons=data_consumption,data_prod=data_production)\n",
    "    # Objective function\n",
    "    total_costs.append(objective_function(res_dict))\n",
    "    \n",
    "# Plot the total costs agains the peakpower of the used module\n",
    "plt.axhline(total_cost_noPV,c='r',label='Costs without PV')\n",
    "plt.xlabel('PV peakpower')\n",
    "plt.ylabel('Costs [€] for 7 years')\n",
    "plt.plot(pv_peakpowers,total_costs,label='Costs with PV')\n",
    "plt.legend()\n",
    "plt.savefig('plots/single_household_7year.png',dpi=200)"
   ]
  },
  {
   "cell_type": "markdown",
   "metadata": {},
   "source": [
    "The downside of this specific objective function is, that it depends on the timespan. If the timespan is too large (e.g. 15 years), the total cost only decreases with the peakpower of the installed pv module. Hence the largest module is the best. \n",
    "Otherwise, if the timespan is too small, the costs only increase with peakpower and no pv module is the cheapest choice.\n",
    "\n",
    "# Multiple households\n",
    "Now we are going to do the same as above just for multiple households that all have different consumption schedules. In order to cut down the dimensions we need to use later on we only take the first 20 PV modules as available. These correspond to sizes from $0.25$ kWp to $5.00$ kWp"
   ]
  },
  {
   "cell_type": "code",
   "execution_count": 50,
   "metadata": {},
   "outputs": [],
   "source": [
    "# Choose number of houses houses\n",
    "num_houses = 20\n",
    "\n",
    "# Retrieve data from production and pv_sizes\n",
    "df_prod = df_prod.iloc[:,0:20]\n",
    "data_production = df_prod.values\n",
    "pv_peakpowers = [float(key) for key in df_prod.keys()]\n",
    "\n",
    "# Create the grid model and simulate one year\n",
    "g = Grid(num_houses=num_houses,num_storages=1,max_capacity=0,num_pvtypes=len(pv_peakpowers),pv_peakpower=pv_peakpowers)\n",
    "# Set standard costs\n",
    "g.set_costs()"
   ]
  },
  {
   "cell_type": "markdown",
   "metadata": {},
   "source": [
    "Since the houses are non interacting we can look at each house on its own and optimize its pvtype alone. This will be done with the following block."
   ]
  },
  {
   "cell_type": "code",
   "execution_count": 52,
   "metadata": {},
   "outputs": [
    {
     "name": "stdout",
     "output_type": "stream",
     "text": [
      "Minimum cost: 203213.7392249998\n"
     ]
    }
   ],
   "source": [
    "min_sum = 0\n",
    "optimal_pvtypes_houses = np.zeros(num_houses)\n",
    "\n",
    "for l in range(num_houses):\n",
    "    data_consumption = df_cons.iloc[:,l].values\n",
    "    g = Grid(num_houses=1,num_storages=1,max_capacity=0,num_pvtypes=len(pv_peakpowers),pv_peakpower=pv_peakpowers)\n",
    "    g.set_costs()\n",
    "    total_costs = []\n",
    "    # For all possible PV types\n",
    "    for i in range(data_production.shape[1]):\n",
    "        # Set pv type of house to this specific one\n",
    "        g.change_pvtype(num_house=0,pv_type=i)\n",
    "        # Simulate the grid for one year\n",
    "        res_dict = g.simulate(data_cons=data_consumption,data_prod=data_production)\n",
    "        # Objective function\n",
    "        total_costs.append(objective_function(res_dict))\n",
    "    #plt.subplot(2,3,l+1)\n",
    "    #plt.plot(pv_peakpowers,total_costs)\n",
    "    #plt.title('House ' + str(l))\n",
    "    min_sum += np.min(total_costs)\n",
    "    optimal_pvtypes_houses[l] = np.argmin(total_costs) \n",
    "    #plt.axvline(pv_peakpowers[np.argmin(total_costs)],c='r')\n",
    "#plt.tight_layout()\n",
    "#plt.show()\n",
    "print('Minimum cost: ' + str(min_sum))"
   ]
  },
  {
   "cell_type": "markdown",
   "metadata": {},
   "source": [
    "Now we obtained the optimal size of a pv storage for each house. We proceed with setting up a storage system between these houses in order to minimize the cost spend on energy even more.\n",
    "\n",
    "# Storage system\n",
    "\n",
    "Above we created a population that has optimal configuration of pv modules for each house. Since this a use case that every single household would consider, we know implement a storage system that is connected to several houses. It might give use some insights in how we should connect houses together, such that they can optimize their energy expenses to even lower amounts in the same timespan. "
   ]
  },
  {
   "cell_type": "code",
   "execution_count": 61,
   "metadata": {},
   "outputs": [
    {
     "data": {
      "text/plain": [
       "494160.68349999795"
      ]
     },
     "execution_count": 61,
     "metadata": {},
     "output_type": "execute_result"
    }
   ],
   "source": [
    "# Get the consumption data for all houses used\n",
    "data_consumption = df_cons.iloc[:,:num_houses].values\n",
    "\n",
    "# Create the grid for the houses\n",
    "g = Grid(num_houses=num_houses,\n",
    "         num_storages=1,\n",
    "         max_capacity=0,\n",
    "         num_pvtypes=len(pv_peakpowers),\n",
    "         pv_peakpower=pv_peakpowers\n",
    "        )\n",
    "g.set_costs()\n",
    "\n",
    "# Change pv types to optimal one\n",
    "for i in range(num_houses):\n",
    "    g.change_pvtype(num_house=i,pv_type=optimal_pvtypes_houses[i])\n",
    "    \n",
    "# Check that costs are the same as above\n",
    "res_dict = g.simulate(data_consumption,data_production)\n",
    "objective_function(res_dict,years=20)"
   ]
  },
  {
   "cell_type": "markdown",
   "metadata": {},
   "source": [
    "Now we can add the storage system to the grid object."
   ]
  },
  {
   "cell_type": "code",
   "execution_count": 65,
   "metadata": {},
   "outputs": [
    {
     "data": {
      "text/plain": [
       "476418.17574999674"
      ]
     },
     "execution_count": 65,
     "metadata": {},
     "output_type": "execute_result"
    }
   ],
   "source": [
    "# Update storage system\n",
    "g.change_storages(num_storages=3,max_capacity=25)\n",
    "\n",
    "# Check new costs\n",
    "res_dict = g.simulate(data_consumption,data_production)\n",
    "objective_function(res_dict,years=20)"
   ]
  },
  {
   "cell_type": "code",
   "execution_count": 66,
   "metadata": {},
   "outputs": [
    {
     "data": {
      "text/html": [
       "<div>\n",
       "<style scoped>\n",
       "    .dataframe tbody tr th:only-of-type {\n",
       "        vertical-align: middle;\n",
       "    }\n",
       "\n",
       "    .dataframe tbody tr th {\n",
       "        vertical-align: top;\n",
       "    }\n",
       "\n",
       "    .dataframe thead th {\n",
       "        text-align: right;\n",
       "    }\n",
       "</style>\n",
       "<table border=\"1\" class=\"dataframe\">\n",
       "  <thead>\n",
       "    <tr style=\"text-align: right;\">\n",
       "      <th></th>\n",
       "      <th>1</th>\n",
       "      <th>2</th>\n",
       "      <th>3</th>\n",
       "      <th>4</th>\n",
       "      <th>5</th>\n",
       "      <th>6</th>\n",
       "      <th>7</th>\n",
       "      <th>8</th>\n",
       "      <th>9</th>\n",
       "      <th>10</th>\n",
       "      <th>...</th>\n",
       "      <th>291</th>\n",
       "      <th>292</th>\n",
       "      <th>293</th>\n",
       "      <th>294</th>\n",
       "      <th>295</th>\n",
       "      <th>296</th>\n",
       "      <th>297</th>\n",
       "      <th>298</th>\n",
       "      <th>299</th>\n",
       "      <th>300</th>\n",
       "    </tr>\n",
       "    <tr>\n",
       "      <th>Unnamed: 0</th>\n",
       "      <th></th>\n",
       "      <th></th>\n",
       "      <th></th>\n",
       "      <th></th>\n",
       "      <th></th>\n",
       "      <th></th>\n",
       "      <th></th>\n",
       "      <th></th>\n",
       "      <th></th>\n",
       "      <th></th>\n",
       "      <th></th>\n",
       "      <th></th>\n",
       "      <th></th>\n",
       "      <th></th>\n",
       "      <th></th>\n",
       "      <th></th>\n",
       "      <th></th>\n",
       "      <th></th>\n",
       "      <th></th>\n",
       "      <th></th>\n",
       "      <th></th>\n",
       "    </tr>\n",
       "  </thead>\n",
       "  <tbody>\n",
       "    <tr>\n",
       "      <th>2012-07-01 00:00:00</th>\n",
       "      <td>1.149</td>\n",
       "      <td>0.254</td>\n",
       "      <td>1.048</td>\n",
       "      <td>0.090</td>\n",
       "      <td>1.896</td>\n",
       "      <td>0.636</td>\n",
       "      <td>1.860</td>\n",
       "      <td>2.212</td>\n",
       "      <td>1.835</td>\n",
       "      <td>0.814</td>\n",
       "      <td>...</td>\n",
       "      <td>0.446</td>\n",
       "      <td>0.063</td>\n",
       "      <td>2.244</td>\n",
       "      <td>0.396</td>\n",
       "      <td>0.156</td>\n",
       "      <td>0.036</td>\n",
       "      <td>0.182</td>\n",
       "      <td>0.139</td>\n",
       "      <td>0.042</td>\n",
       "      <td>4.460</td>\n",
       "    </tr>\n",
       "    <tr>\n",
       "      <th>2012-07-01 00:30:00</th>\n",
       "      <td>2.105</td>\n",
       "      <td>0.167</td>\n",
       "      <td>0.965</td>\n",
       "      <td>0.084</td>\n",
       "      <td>1.905</td>\n",
       "      <td>2.799</td>\n",
       "      <td>1.298</td>\n",
       "      <td>0.208</td>\n",
       "      <td>0.025</td>\n",
       "      <td>0.020</td>\n",
       "      <td>...</td>\n",
       "      <td>0.221</td>\n",
       "      <td>0.075</td>\n",
       "      <td>1.964</td>\n",
       "      <td>0.134</td>\n",
       "      <td>0.075</td>\n",
       "      <td>0.030</td>\n",
       "      <td>0.141</td>\n",
       "      <td>0.157</td>\n",
       "      <td>0.541</td>\n",
       "      <td>2.892</td>\n",
       "    </tr>\n",
       "    <tr>\n",
       "      <th>2012-07-01 01:00:00</th>\n",
       "      <td>2.036</td>\n",
       "      <td>0.108</td>\n",
       "      <td>0.927</td>\n",
       "      <td>0.084</td>\n",
       "      <td>1.174</td>\n",
       "      <td>2.749</td>\n",
       "      <td>0.098</td>\n",
       "      <td>0.151</td>\n",
       "      <td>0.022</td>\n",
       "      <td>0.036</td>\n",
       "      <td>...</td>\n",
       "      <td>0.231</td>\n",
       "      <td>0.075</td>\n",
       "      <td>0.827</td>\n",
       "      <td>1.199</td>\n",
       "      <td>0.084</td>\n",
       "      <td>0.053</td>\n",
       "      <td>0.257</td>\n",
       "      <td>0.127</td>\n",
       "      <td>0.100</td>\n",
       "      <td>1.345</td>\n",
       "    </tr>\n",
       "    <tr>\n",
       "      <th>2012-07-01 01:30:00</th>\n",
       "      <td>1.854</td>\n",
       "      <td>0.119</td>\n",
       "      <td>1.359</td>\n",
       "      <td>2.012</td>\n",
       "      <td>0.105</td>\n",
       "      <td>2.670</td>\n",
       "      <td>0.064</td>\n",
       "      <td>0.092</td>\n",
       "      <td>0.011</td>\n",
       "      <td>0.009</td>\n",
       "      <td>...</td>\n",
       "      <td>0.247</td>\n",
       "      <td>0.063</td>\n",
       "      <td>0.193</td>\n",
       "      <td>2.069</td>\n",
       "      <td>0.054</td>\n",
       "      <td>0.044</td>\n",
       "      <td>0.197</td>\n",
       "      <td>0.122</td>\n",
       "      <td>0.090</td>\n",
       "      <td>0.134</td>\n",
       "    </tr>\n",
       "    <tr>\n",
       "      <th>2012-07-01 02:00:00</th>\n",
       "      <td>1.807</td>\n",
       "      <td>0.150</td>\n",
       "      <td>0.060</td>\n",
       "      <td>2.062</td>\n",
       "      <td>0.075</td>\n",
       "      <td>2.712</td>\n",
       "      <td>0.089</td>\n",
       "      <td>0.152</td>\n",
       "      <td>0.981</td>\n",
       "      <td>1.132</td>\n",
       "      <td>...</td>\n",
       "      <td>0.193</td>\n",
       "      <td>0.444</td>\n",
       "      <td>0.185</td>\n",
       "      <td>2.060</td>\n",
       "      <td>0.062</td>\n",
       "      <td>0.029</td>\n",
       "      <td>1.603</td>\n",
       "      <td>0.120</td>\n",
       "      <td>0.094</td>\n",
       "      <td>0.100</td>\n",
       "    </tr>\n",
       "  </tbody>\n",
       "</table>\n",
       "<p>5 rows × 300 columns</p>\n",
       "</div>"
      ],
      "text/plain": [
       "                         1      2      3      4      5      6      7      8  \\\n",
       "Unnamed: 0                                                                    \n",
       "2012-07-01 00:00:00  1.149  0.254  1.048  0.090  1.896  0.636  1.860  2.212   \n",
       "2012-07-01 00:30:00  2.105  0.167  0.965  0.084  1.905  2.799  1.298  0.208   \n",
       "2012-07-01 01:00:00  2.036  0.108  0.927  0.084  1.174  2.749  0.098  0.151   \n",
       "2012-07-01 01:30:00  1.854  0.119  1.359  2.012  0.105  2.670  0.064  0.092   \n",
       "2012-07-01 02:00:00  1.807  0.150  0.060  2.062  0.075  2.712  0.089  0.152   \n",
       "\n",
       "                         9     10  ...    291    292    293    294    295  \\\n",
       "Unnamed: 0                         ...                                      \n",
       "2012-07-01 00:00:00  1.835  0.814  ...  0.446  0.063  2.244  0.396  0.156   \n",
       "2012-07-01 00:30:00  0.025  0.020  ...  0.221  0.075  1.964  0.134  0.075   \n",
       "2012-07-01 01:00:00  0.022  0.036  ...  0.231  0.075  0.827  1.199  0.084   \n",
       "2012-07-01 01:30:00  0.011  0.009  ...  0.247  0.063  0.193  2.069  0.054   \n",
       "2012-07-01 02:00:00  0.981  1.132  ...  0.193  0.444  0.185  2.060  0.062   \n",
       "\n",
       "                       296    297    298    299    300  \n",
       "Unnamed: 0                                              \n",
       "2012-07-01 00:00:00  0.036  0.182  0.139  0.042  4.460  \n",
       "2012-07-01 00:30:00  0.030  0.141  0.157  0.541  2.892  \n",
       "2012-07-01 01:00:00  0.053  0.257  0.127  0.100  1.345  \n",
       "2012-07-01 01:30:00  0.044  0.197  0.122  0.090  0.134  \n",
       "2012-07-01 02:00:00  0.029  1.603  0.120  0.094  0.100  \n",
       "\n",
       "[5 rows x 300 columns]"
      ]
     },
     "execution_count": 66,
     "metadata": {},
     "output_type": "execute_result"
    }
   ],
   "source": [
    "df_cons.head(5)"
   ]
  },
  {
   "cell_type": "code",
   "execution_count": null,
   "metadata": {},
   "outputs": [],
   "source": []
  }
 ],
 "metadata": {
  "kernelspec": {
   "display_name": "Python 3",
   "language": "python",
   "name": "python3"
  },
  "language_info": {
   "codemirror_mode": {
    "name": "ipython",
    "version": 3
   },
   "file_extension": ".py",
   "mimetype": "text/x-python",
   "name": "python",
   "nbconvert_exporter": "python",
   "pygments_lexer": "ipython3",
   "version": "3.6.7"
  }
 },
 "nbformat": 4,
 "nbformat_minor": 2
}
