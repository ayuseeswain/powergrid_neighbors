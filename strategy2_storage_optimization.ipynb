{
 "cells": [
  {
   "cell_type": "markdown",
   "metadata": {},
   "source": [
    "This notebook implements strategy number 2."
   ]
  },
  {
   "cell_type": "code",
   "execution_count": 1,
   "metadata": {},
   "outputs": [],
   "source": [
    "import pandas as pd\n",
    "import numpy as np\n",
    "import matplotlib.pyplot as plt\n",
    "from src.grid import Grid\n",
    "import random\n",
    "import multiprocessing\n",
    "from ipywidgets import IntProgress\n",
    "from IPython.display import display\n",
    "%matplotlib inline"
   ]
  },
  {
   "cell_type": "markdown",
   "metadata": {},
   "source": [
    "As input data we use consumption/production of specific houses, that were found to have reasonable consumption/production quantities. Also we set the timeframe to a short one of two weeks, such that the genetic algorithm runs faster than for a whole year."
   ]
  },
  {
   "cell_type": "code",
   "execution_count": 37,
   "metadata": {},
   "outputs": [],
   "source": [
    "# Consumption data\n",
    "df_cons = pd.read_csv('data/consumption_ausgrid.csv')\n",
    "df_cons['Unnamed: 0'] = pd.to_datetime(df_cons['Unnamed: 0'])\n",
    "df_cons = df_cons.set_index('Unnamed: 0')\n",
    "df_cons_red = df_cons.iloc[:,0]\n",
    "# Production data\n",
    "df_prod = pd.read_csv('data/generation_ausgrid.csv')\n",
    "df_prod['Unnamed: 0'] = pd.to_datetime(df_prod['Unnamed: 0'])\n",
    "df_prod = df_prod.set_index('Unnamed: 0')\n",
    "\n",
    "# Choose specific houses and time frame\n",
    "used_houses = [114,204,47,160,82,168]# Good ones, i.e. \n",
    "used_houses = random.sample(list(np.arange(df_cons.shape[1])),40)\n",
    "week_start = 37\n",
    "week_end = 39\n",
    "df_cons = df_cons.iloc[7*48*week_start:7*48*week_end,used_houses]\n",
    "df_prod = df_prod.iloc[7*48*week_start:7*48*week_end,used_houses]\n",
    "\n",
    "data_cons = df_cons.values\n",
    "data_prod = df_prod.values"
   ]
  },
  {
   "cell_type": "markdown",
   "metadata": {},
   "source": [
    "Now we can build the grid model. Since we only simulate 2 weeks, we need to set the costs accordingly. Therfore we define the timeframe after which the storages should pay off (i.e. 10 years) and calculate its investition cost for two weeks. "
   ]
  },
  {
   "cell_type": "code",
   "execution_count": 38,
   "metadata": {},
   "outputs": [
    {
     "name": "stdout",
     "output_type": "stream",
     "text": [
      "{'import_grid_kwh': 6863.622999999999, 'export_grid_kwh': 2082.107999999998, 'pv_production_kwh': 4447.558999999962, 'setup_cost_storage': 0.0, 'setup_cost_pv': 0.0, 'cost_import_grid': 1715.9057499999997, 'reward_export_grid': 208.2107999999998}\n"
     ]
    }
   ],
   "source": [
    "# Create grid model\n",
    "g = Grid(num_houses=df_cons.shape[1],\n",
    "         num_storages=df_cons.shape[1],\n",
    "         max_capacity=0,\n",
    "         num_pvtypes=df_prod.shape[1],\n",
    "         pv_peakpower=0)\n",
    "# Add each pv type to each house\n",
    "for i in range(df_cons.shape[1]):\n",
    "    g.change_pvtype(num_house=i,pv_type=i)\n",
    "\n",
    "# Set the costs for 2 weeks\n",
    "amortization_timeframe = 10*365 # in days\n",
    "storage_cost_per_kWh = 500\n",
    "storage_cost_per_kWh_per_day = storage_cost_per_kWh / amortization_timeframe\n",
    "cost_per_wire = 0 # Assume wires are already there\n",
    "loss_per_unit = 0.05 # 5% of power lost, when transferring to direct neighbor\n",
    "g.set_costs(cost_storage_kwh=14*storage_cost_per_kWh_per_day,loss_per_unit=loss_per_unit)\n",
    "g_initial = g.get_copy()\n",
    "# Simulate the grid\n",
    "res_dict_wo_storage = g.simulate(data_cons=data_cons,data_prod=data_prod)\n",
    "print(res_dict_wo_storage)"
   ]
  },
  {
   "cell_type": "markdown",
   "metadata": {},
   "source": [
    "As we can see there is something going on with pv production and export. We still need an objective function that returns the cost for running this kind of grid for the specific timeframe. In this case the objective function is really easy, since we already defined the cost for setting up the storages in this two week interval."
   ]
  },
  {
   "cell_type": "code",
   "execution_count": 39,
   "metadata": {},
   "outputs": [
    {
     "name": "stdout",
     "output_type": "stream",
     "text": [
      "Cost without storage: 1507.6949499999998\n"
     ]
    }
   ],
   "source": [
    "def objective_function(res_dict):\n",
    "    return res_dict['cost_import_grid'] + res_dict['setup_cost_storage'] - res_dict['reward_export_grid']\n",
    "\n",
    "# Calculate the cost of the above simulation\n",
    "cost_wo_storage = objective_function(res_dict_wo_storage)\n",
    "print('Cost without storage: ' + str(cost_wo_storage))"
   ]
  },
  {
   "cell_type": "markdown",
   "metadata": {},
   "source": [
    "Now we can setup the storage system and calculate the expenses again. Therefore we first observe the boundary case of everyone has its own storage, hence the losses in the system are reduced."
   ]
  },
  {
   "cell_type": "code",
   "execution_count": 40,
   "metadata": {},
   "outputs": [
    {
     "name": "stdout",
     "output_type": "stream",
     "text": [
      "Min costs with own storage:1484.6480099855805\n"
     ]
    }
   ],
   "source": [
    "# Capacities to simulate\n",
    "caps = np.linspace(0,5,20,dtype=float)\n",
    "min_cost_all_storages = 0\n",
    "opt_caps = np.zeros(data_cons.shape[1]) #optimal capacities for each house\n",
    "for i in range(data_cons.shape[1]):\n",
    "    g_single = Grid(num_houses=1,num_storages=1,max_capacity=0,num_pvtypes=1,pv_peakpower=0)\n",
    "    g_single.set_costs(cost_storage_kwh=14*storage_cost_per_kWh_per_day,loss_per_unit=loss_per_unit)\n",
    "    g_single.change_pvtype(num_house=0,pv_type=0)\n",
    "    g_single.change_storage_connection(num_house=0,storage_connection=0)\n",
    "    costs = np.array([])\n",
    "    for cap in caps:\n",
    "        g_single.change_storages(num_storages=1,max_capacity=cap)\n",
    "        costs = np.append(costs,objective_function(g_single.simulate(data_cons[:,i],data_prod[:,i])))\n",
    "    min_cost_all_storages += np.min(costs)\n",
    "    opt_caps[i] = caps[np.argmin(costs)]\n",
    "    \n",
    "# Create copy for later population initialization\n",
    "g_all_storages = g.get_copy()\n",
    "g_all_storages.change_storages(num_storages=data_cons.shape[1],max_capacity=opt_caps)\n",
    "for i in range(data_cons.shape[1]):\n",
    "    g_all_storages.change_storage_connection(num_house=i,storage_connection=i)\n",
    "    \n",
    "# print minimum\n",
    "print('Min costs with own storage:' + str(min_cost_all_storages))"
   ]
  },
  {
   "cell_type": "markdown",
   "metadata": {},
   "source": [
    "Now we observe the other boundary case in which we only have one storage. So there is maximum sharing, but also a maximum loss in the connections to the storage."
   ]
  },
  {
   "cell_type": "code",
   "execution_count": 41,
   "metadata": {},
   "outputs": [
    {
     "name": "stdout",
     "output_type": "stream",
     "text": [
      "Min cost with one storage: 1507.6949499999998\n"
     ]
    },
    {
     "data": {
      "image/png": "[encoded data removed]",
      "text/plain": [
       "<Figure size 432x288 with 1 Axes>"
      ]
     },
     "metadata": {
      "needs_background": "light"
     },
     "output_type": "display_data"
    }
   ],
   "source": [
    "# Create grid with all and with one storage\n",
    "g.change_storages(num_storages=1,max_capacity=0)\n",
    "caps = np.linspace(0,5,20)\n",
    "costs = np.array([])\n",
    "\n",
    "for cap in caps:\n",
    "    g.change_storages(num_storages=1,max_capacity=cap)\n",
    "    costs = np.append(costs,objective_function(g.simulate(data_cons,data_prod)))\n",
    "min_cost_one_storage = np.min(costs)\n",
    "# Copy grid for later population initialization\n",
    "g_one_storage = g.get_copy()\n",
    "g_one_storage.change_storages(num_storages=data_cons.shape[1],max_capacity=caps[np.argmin(costs)])\n",
    "for i in range(data_cons.shape[1]):\n",
    "    g_one_storage.change_storage_connection(num_house=i,storage_connection=0)\n",
    "print('Min cost with one storage: ' + str(min_cost_one_storage))\n",
    "\n",
    "plt.xlabel('Capacity of the storage')\n",
    "plt.ylabel('Cost for 2 weeks')\n",
    "plt.axhline(cost_wo_storage,label='Without storage',c='r')\n",
    "plt.axhline(min_cost_all_storages,label='Individual storages',c='g')\n",
    "plt.plot(caps,costs,label='One storage')\n",
    "plt.legend()\n",
    "plt.title('Different storage cases')\n",
    "#plt.savefig('plots/boundary_40houses.png',dpi=200)\n",
    "plt.show()"
   ]
  },
  {
   "cell_type": "markdown",
   "metadata": {},
   "source": [
    "The optimal solution might exist some where in between of these two boundary cases. Therefore we implement a genetic algorithm, to search for this optimal solution within the large state space. The parameters we can change are the number of storages, their sizes and the connection of the houses to the storages."
   ]
  },
  {
   "cell_type": "code",
   "execution_count": 53,
   "metadata": {},
   "outputs": [
    {
     "name": "stdout",
     "output_type": "stream",
     "text": [
      "Initialized population\n"
     ]
    }
   ],
   "source": [
    "# Initial population should be made up of how many percent of each individual\n",
    "percentages = {\"random\" : 0,\n",
    "               \"all_storages\" : 0.3,\n",
    "               \"one_storage\" : 0.7,\n",
    "               \"no_storage\" : 0\n",
    "}\n",
    "assert sum(percentages.values()) == 1, 'percentages should sum to one'\n",
    "population_size = 1000\n",
    "population = []\n",
    "# Random individuals\n",
    "for i in range(int(percentages[\"random\"]*population_size)):\n",
    "    g = g_initial.get_copy()\n",
    "    g.change_storages(num_storages=data_cons.shape[1],max_capacity=5)\n",
    "    g.randomize(storage_connections=True,pv_types=False)\n",
    "    population.append(g)\n",
    "for i in range(int(percentages[\"all_storages\"]*population_size)):\n",
    "    g = g_all_storages.get_copy()\n",
    "    population.append(g)\n",
    "for i in range(int(percentages[\"one_storage\"]*population_size)):\n",
    "    g = g_one_storage.get_copy()\n",
    "    population.append(g)\n",
    "for i in range(int(percentages[\"no_storage\"]*population_size)):\n",
    "    g = g_initial.get_copy()\n",
    "    population.append(g)\n",
    "for i in range(population_size-len(population)):\n",
    "    g = g_initial.get_copy()\n",
    "    population.append(g)\n",
    "\n",
    "# Calculate the objective function for each individual \n",
    "def get_cost(individual):\n",
    "    return objective_function(individual.simulate(data_cons,data_prod))\n",
    "# Calculate costs of all individuals\n",
    "pool = multiprocessing.Pool(100)\n",
    "costs_population = pool.map(get_cost,population)\n",
    "\n",
    "print('Initialized population')"
   ]
  },
  {
   "cell_type": "markdown",
   "metadata": {},
   "source": [
    "The genetic algorithm needs no certain probabilities that will change the setup of the grid system. We give mutation and crossover probabilities to two different properties:\n",
    "\n",
    "    storage connections\n",
    "    storage capacity\n",
    "    \n",
    "We could also edit the number of storages, but a storage can simply be excluded by not connecting any house to them. Therefore we don't need to explicitly take that into account. The objective function automatically excludes the setup costs for storages that are not used by the grid.\n",
    "    "
   ]
  },
  {
   "cell_type": "code",
   "execution_count": null,
   "metadata": {},
   "outputs": [
    {
     "name": "stdout",
     "output_type": "stream",
     "text": [
      "|                            |\n",
      "*********"
     ]
    }
   ],
   "source": [
    "# Probabilities\n",
    "prob_mut_connection = 0.25\n",
    "prob_mut_capacity = 0.25\n",
    "prob_cross_connection = 0.25\n",
    "prob_cross_capacity = 0.25\n",
    "perc_clone_best = 0.1\n",
    "\n",
    "# possible capacities\n",
    "possible_caps = np.linspace(0,5,20)\n",
    "\n",
    "# Other properties of the GA\n",
    "num_generations = 30\n",
    "\n",
    "# Mean and min \n",
    "mean_costs = np.zeros(num_generations)\n",
    "min_costs = np.zeros(num_generations)\n",
    "# Progressbar print\n",
    "print('|{}|'.format(' ' * (num_generations - 2)))\n",
    "# Loop through generations\n",
    "for i in range(num_generations):\n",
    "    # Update progress bar\n",
    "    print('*',end='',flush=True)\n",
    "    # Create mutations for connections\n",
    "    idx = random.sample(list(np.arange(population_size)),int(prob_mut_connection*population_size))\n",
    "    for k in idx:\n",
    "        g_copy = population[k].get_copy()\n",
    "        g_copy.mutate(num_house=-1,storage_connection=True)\n",
    "        population.append(g_copy)\n",
    "    # Create mutations for capacities\n",
    "    idx = random.sample(list(np.arange(population_size)),int(prob_mut_capacity*population_size))\n",
    "    for k in idx:\n",
    "        g_copy = population[k].get_copy()\n",
    "        g_copy.mutate(num_house=-1,storage_sizes=True,storage_cap_list=possible_caps)\n",
    "        population.append(g_copy)\n",
    "    # Create crossovers for connection\n",
    "    idx1 = random.sample(list(np.arange(population_size)),int(prob_cross_connection/2*population_size))\n",
    "    idx2 = random.sample(list(np.arange(population_size)),int(prob_cross_connection/2*population_size))\n",
    "    for j,k in zip(idx1,idx2):\n",
    "        g_copy = population[j].get_copy()\n",
    "        g_copy2 = g_copy.crossover(population[k],storage_connection=True)\n",
    "        population.append(g_copy)\n",
    "        population.append(g_copy2)\n",
    "    # Create crossovers for capacity\n",
    "    idx1 = random.sample(list(np.arange(population_size)),int(prob_cross_capacity/2*population_size))\n",
    "    idx2 = random.sample(list(np.arange(population_size)),int(prob_cross_capacity/2*population_size))\n",
    "    for j,k in zip(idx1,idx2):\n",
    "        g_copy = population[j].get_copy()\n",
    "        g_copy2 = g_copy.crossover(population[k],storage_sizes=True)\n",
    "        population.append(g_copy)\n",
    "        population.append(g_copy2)\n",
    "    \n",
    "    # Calculate objective functions of the new populations\n",
    "    new_costs = pool.map(get_cost,population[population_size:])\n",
    "    costs_population = np.append(costs_population,new_costs)\n",
    "    \n",
    "    # Cloning the best ones\n",
    "    sort_idx = np.argsort(costs_population)\n",
    "    clone_idx = sort_idx[:int(perc_clone_best)*population_size]\n",
    "    for k in clone_idx:\n",
    "        g_copy = population[k].get_copy()\n",
    "        population.append(g_copy)\n",
    "        costs_population = np.append(costs_population,[costs_population[k]])\n",
    "    \n",
    "    # Get the sorting indices\n",
    "    sort_idx = np.argsort(costs_population)\n",
    "    del_idx = sort_idx[population_size:]\n",
    "    # Remove the individuals with too high costs\n",
    "    for index in sorted(del_idx, reverse=True):\n",
    "        del population[index]\n",
    "    # Remove their costs from the population costs\n",
    "    costs_population = costs_population[sort_idx[:population_size]]\n",
    "    \n",
    "    mean_costs[i] = np.mean(costs_population)\n",
    "    min_costs[i] = np.min(costs_population)"
   ]
  },
  {
   "cell_type": "code",
   "execution_count": null,
   "metadata": {},
   "outputs": [],
   "source": [
    "plt.axhline(min_cost_one_storage,c='m',linestyle='dashed',label='Min - one storage')\n",
    "plt.axhline(min_cost_all_storages,c='g',linestyle='dashed',label='Min - individual storages')\n",
    "plt.axhline(cost_wo_storage,label='Min - no storages',linestyle='dashed',c='r')\n",
    "plt.plot(mean_costs,label='Mean - Genetic')\n",
    "plt.plot(min_costs,label='Min - Genetic')\n",
    "plt.xlabel('Number of generation')\n",
    "plt.ylabel('Costs')\n",
    "plt.title('Cost optimization')\n",
    "plt.legend(loc=1)\n",
    "plt.show()"
   ]
  },
  {
   "cell_type": "code",
   "execution_count": null,
   "metadata": {},
   "outputs": [],
   "source": [
    "population[np.argmin(costs_population)].print()"
   ]
  },
  {
   "cell_type": "code",
   "execution_count": null,
   "metadata": {},
   "outputs": [],
   "source": []
  }
 ],
 "metadata": {
  "kernelspec": {
   "display_name": "Python 3",
   "language": "python",
   "name": "python3"
  },
  "language_info": {
   "codemirror_mode": {
    "name": "ipython",
    "version": 3
   },
   "file_extension": ".py",
   "mimetype": "text/x-python",
   "name": "python",
   "nbconvert_exporter": "python",
   "pygments_lexer": "ipython3",
   "version": "3.6.7"
  }
 },
 "nbformat": 4,
 "nbformat_minor": 2
}
