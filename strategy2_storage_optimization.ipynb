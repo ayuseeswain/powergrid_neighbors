{
 "cells": [
  {
   "cell_type": "markdown",
   "metadata": {},
   "source": [
    "This notebook implements strategy number 2."
   ]
  },
  {
   "cell_type": "code",
   "execution_count": 1,
   "metadata": {},
   "outputs": [],
   "source": [
    "import pandas as pd\n",
    "import numpy as np\n",
    "import matplotlib.pyplot as plt\n",
    "from src.grid import Grid\n",
    "import random\n",
    "from ipywidgets import IntProgress\n",
    "from IPython.display import display\n",
    "%matplotlib inline"
   ]
  },
  {
   "cell_type": "markdown",
   "metadata": {},
   "source": [
    "As input data we use consumption/production of specific houses, that were found to have reasonable consumption/production quantities. Also we set the timeframe to a short one of two weeks, such that the genetic algorithm runs faster than for a whole year."
   ]
  },
  {
   "cell_type": "code",
   "execution_count": 2,
   "metadata": {},
   "outputs": [],
   "source": [
    "# Consumption data\n",
    "df_cons = pd.read_csv('data/consumption_ausgrid.csv')\n",
    "df_cons['Unnamed: 0'] = pd.to_datetime(df_cons['Unnamed: 0'])\n",
    "df_cons = df_cons.set_index('Unnamed: 0')\n",
    "df_cons_red = df_cons.iloc[:,0]\n",
    "# Production data\n",
    "df_prod = pd.read_csv('data/generation_ausgrid.csv')\n",
    "df_prod['Unnamed: 0'] = pd.to_datetime(df_prod['Unnamed: 0'])\n",
    "df_prod = df_prod.set_index('Unnamed: 0')\n",
    "\n",
    "# Choose specific houses and time frame\n",
    "used_houses = [114,204,47,160,82,168]\n",
    "week_start = 37\n",
    "week_end = 39\n",
    "df_cons = df_cons.iloc[7*48*week_start:7*48*week_end,used_houses]\n",
    "df_prod = df_prod.iloc[7*48*week_start:7*48*week_end,used_houses]\n",
    "\n",
    "data_cons = df_cons.values\n",
    "data_prod = df_prod.values"
   ]
  },
  {
   "cell_type": "markdown",
   "metadata": {},
   "source": [
    "Now we can build the grid model. Since we only simulate 2 weeks, we need to set the costs accordingly. Therfore we define the timeframe after which the storages should pay off (i.e. 10 years) and calculate its investition cost for two weeks. "
   ]
  },
  {
   "cell_type": "code",
   "execution_count": 3,
   "metadata": {},
   "outputs": [
    {
     "name": "stdout",
     "output_type": "stream",
     "text": [
      "{'import_grid_kwh': 471.50200000000046, 'export_grid_kwh': 624.861, 'pv_production_kwh': 880.918, 'setup_cost_storage': 0.0, 'setup_cost_pv': 0.0, 'cost_import_grid': 117.87550000000012, 'reward_export_grid': 62.4861}\n"
     ]
    }
   ],
   "source": [
    "g = Grid(num_houses=df_cons.shape[1],\n",
    "         num_storages=1,\n",
    "         max_capacity=0,\n",
    "         num_pvtypes=df_prod.shape[1],\n",
    "         pv_peakpower=0)\n",
    "# Add each pv type to each house\n",
    "for i in range(df_cons.shape[1]):\n",
    "    g.change_pvtype(num_house=i,pv_type=i)\n",
    "\n",
    "# Set the costs for 2 weeks\n",
    "amortization_timeframe = 10*365 # in days\n",
    "storage_cost_per_kWh = 500\n",
    "storage_cost_per_kWh_per_day = storage_cost_per_kWh / amortization_timeframe\n",
    "g.set_costs(cost_storage_kwh=14*storage_cost_per_kWh_per_day)\n",
    "\n",
    "# Simulate the grid\n",
    "res_dict = g.simulate(data_cons=data_cons,data_prod=data_prod)\n",
    "print(res_dict)"
   ]
  },
  {
   "cell_type": "markdown",
   "metadata": {},
   "source": [
    "As we can see there is something going on with pv production and export. We still need an objective function that returns the cost for running this kind of grid for the specific timeframe. In this case the objective function is really easy, since we already defined the cost for setting up the storages in this two week interval."
   ]
  },
  {
   "cell_type": "code",
   "execution_count": 4,
   "metadata": {},
   "outputs": [
    {
     "name": "stdout",
     "output_type": "stream",
     "text": [
      "Cost without storage: 55.389400000000116\n"
     ]
    }
   ],
   "source": [
    "# TODO Add a function to grid.py that empties the storages at the end of the simulation.\n",
    "def objective_function(res_dict):\n",
    "    return res_dict['cost_import_grid'] + res_dict['setup_cost_storage'] - res_dict['reward_export_grid']\n",
    "\n",
    "# Calculate the cost of the above simulation\n",
    "print('Cost without storage: ' + str(objective_function(res_dict)))"
   ]
  },
  {
   "cell_type": "markdown",
   "metadata": {},
   "source": [
    "Now we can setup the storage system and calculate the expenses again."
   ]
  },
  {
   "cell_type": "code",
   "execution_count": 5,
   "metadata": {},
   "outputs": [
    {
     "name": "stdout",
     "output_type": "stream",
     "text": [
      "pv_types: [0 1 2 3 4 5]\n",
      "pv_peakpowers: [0 0 0 0 0 0]\n",
      "storag_conns: [0 0 0 0 0 0]\n",
      "storage_capacities: [14]\n",
      "Cost with storages (initial): 47.56156506849317\n"
     ]
    }
   ],
   "source": [
    "g.change_storages(num_storages=1,max_capacity=14)\n",
    "g.print()\n",
    "res_dict = g.simulate(data_cons=data_cons,data_prod=data_prod)\n",
    "print('Cost with storages (initial): ' + str(objective_function(res_dict)))"
   ]
  },
  {
   "cell_type": "code",
   "execution_count": 7,
   "metadata": {},
   "outputs": [
    {
     "data": {
      "text/plain": [
       "1"
      ]
     },
     "execution_count": 7,
     "metadata": {},
     "output_type": "execute_result"
    }
   ],
   "source": [
    "int(1.5+0.1)"
   ]
  },
  {
   "cell_type": "code",
   "execution_count": null,
   "metadata": {},
   "outputs": [],
   "source": []
  }
 ],
 "metadata": {
  "kernelspec": {
   "display_name": "Python 3",
   "language": "python",
   "name": "python3"
  },
  "language_info": {
   "codemirror_mode": {
    "name": "ipython",
    "version": 3
   },
   "file_extension": ".py",
   "mimetype": "text/x-python",
   "name": "python",
   "nbconvert_exporter": "python",
   "pygments_lexer": "ipython3",
   "version": "3.6.7"
  }
 },
 "nbformat": 4,
 "nbformat_minor": 2
}
